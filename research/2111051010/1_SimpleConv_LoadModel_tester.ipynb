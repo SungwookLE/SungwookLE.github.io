{
 "cells": [
  {
   "cell_type": "markdown",
   "source": [
    "## 1. Load the model and Test\n",
    "- Before begining, `model_data_argu` dict() is written by hand for setting property"
   ],
   "metadata": {}
  },
  {
   "cell_type": "code",
   "execution_count": 1,
   "source": [
    "# Intialize the tensorflow-gpu <-> physical matching\n",
    "import tensorflow as tf\n",
    "\n",
    "gpus = tf.config.experimental.list_physical_devices('GPU')\n",
    "if gpus:\n",
    "    try:\n",
    "        # Currently, memory growth needs to be the same across GPUs\n",
    "        for gpu in gpus:\n",
    "            tf.config.experimental.set_memory_growth(gpu, True)\n",
    "        logical_gpus = tf.config.experimental.list_logical_devices('GPU')\n",
    "        print(len(gpus), \"Physical GPUs,\", len(logical_gpus), \"Logical GPUs\")\n",
    "    except RuntimeError as e:\n",
    "        # Memory growth must be set before GPUs have been initialized\n",
    "        print(e)"
   ],
   "outputs": [],
   "metadata": {}
  },
  {
   "cell_type": "code",
   "execution_count": 20,
   "source": [
    "from tensorflow.keras.models import load_model\n",
    "model_load = load_model(\"./ckpt/\"+\"OOP-7-0.92.h5\")"
   ],
   "outputs": [],
   "metadata": {}
  },
  {
   "cell_type": "code",
   "execution_count": 3,
   "source": [
    "##############################3 Insert model and Data Properties\n",
    "### be careful when calculating test accuracy, make sure labels_map is same as train phase and test phase(here)\n",
    "model_data_argu = {'label': \"OOP\", 'dsize': (64,64), 'model_name': \"model_oop_cnn\", \"labels_map\": {'c5': 0, 'c0': 1, 'c6': 2, 'c1': 3, 'c7': 4}}"
   ],
   "outputs": [],
   "metadata": {}
  },
  {
   "cell_type": "code",
   "execution_count": 4,
   "source": [
    "# Load Model (Test)\n",
    "import utils.xai_viz\n",
    "from utils.xai_viz import explainable_model\n",
    "import importlib\n",
    "from model.model_cnn import model_cnn\n",
    "import os\n",
    "import numpy as np\n",
    "from tensorflow.keras.utils import to_categorical\n",
    "import matplotlib.pyplot as plt\n",
    "%matplotlib inline\n",
    "import random\n",
    "from load.load_data import load_mydata\n",
    "\n",
    "myloader = load_mydata()\n",
    "X_my_test, Y_my_test = myloader.load_test_data(classifier_label=model_data_argu['label'], dsize=model_data_argu['dsize'], comp_ratio=4)\n",
    "print(\"My Test set is \", len(Y_my_test))\n",
    "\n",
    "X_test = np.array(X_my_test)/255.0\n",
    "labels_map=model_data_argu[\"labels_map\"]\n",
    "\n",
    "Y_my_test = np.array(list(map(lambda x: labels_map[x], Y_my_test)))\n",
    "Y_test = to_categorical(np.array(Y_my_test))\n",
    "print(labels_map)"
   ],
   "outputs": [
    {
     "output_type": "stream",
     "name": "stdout",
     "text": [
      "My Test data folder lists are..\n",
      "20211012_center_belt_nomask_minseok1\n",
      "20211012_center_unbelt_nomask_minseok1\n",
      "20211015_center_belt_mask_yukhyun1\n",
      "20211015_center_unbelt_mask_sungwook1\n",
      "20211015_center_unbelt_mask_yukhyun1\n",
      "20211015_center_unbelt_nomask_sungwook1\n",
      "20211015_center_unbelt_nomask_sungwook2\n",
      "20211015_center_unbelt_nomask_yukhyun1\n",
      "20211015_close_unbelt_nomask_sungwook1\n",
      "20211017_center_belt_mask_yukhyun1\n",
      "20211017_center_belt_nomask_yukhyun1\n",
      "20211017_center_unbelt_mask_sungwook1\n",
      "20211017_center_unbelt_nomask_sungwook1\n",
      "20211019_center_belt_mask_juwon1\n",
      "20211019_center_belt_mask_juwon2\n",
      "20211019_center_belt_mask_juwon3\n",
      "20211019_center_belt_nomask_juwon1\n",
      "20211019_center_belt_nomask_juwon2\n",
      "20211019_center_unbelt_mask_juwon3\n",
      "20211019_center_unbelt_nomask_juwon1\n",
      "20211019_close_belt_mask_juwon1\n",
      "20211019_close_unbelt_mask_juwon1\n",
      "20211019_far_belt_mask_juwon1\n",
      "20211019_far_unbelt_mask_juwon1\n",
      "20211019_phone_belt_mask_juwon1\n",
      "20211019_phone_unbelt_mask_juwon1\n",
      "20211020_behind_belt_nomask_sujin1\n",
      "20211020_behind_nobelt_nomask_sujin1\n",
      "20211020_behind_unbelt_mask_sujin1\n",
      "20211020_center_belt_mask_sujin1\n",
      "20211020_center_belt_nomask_sujin1\n",
      "20211020_center_unbelt_mask_sujin1\n",
      "20211020_center_unbelt_nomask_sujin1\n",
      "20211020_close_belt_mask_sujin1\n",
      "20211020_close_belt_nomask_sujin1\n",
      "20211020_close_unbelt_mask_sujin1\n",
      "20211020_close_unbelt_nomask_sujin1\n",
      "20211020_far_belt_mask_sujin1\n",
      "20211020_far_belt_nomask_sujin1\n",
      "20211020_far_unbelt_mask_sujin1\n",
      "20211020_far_unbelt_nomask_sujin1\n",
      "20211020_phone_belt_mask_sujin1\n",
      "20211020_phone_belt_nomask_sujin1\n",
      "20211020_phone_unbelt_mask_sujin1\n",
      "20211020_phone_unbelt_nomask_sujin1\n",
      "20211024_behind_belt_mask_jieun1\n",
      "20211025_behind_belt_mask_jieun\n",
      "20211025_behind_belt_nomask_jieun\n",
      "20211025_behind_unbelt_mask_jieun\n",
      "20211025_behind_unbelt_nomask_jieun\n",
      "20211025_center_belt_mask_jieun\n",
      "20211025_center_belt_nomask_jieun\n",
      "20211025_center_unbelt_mask_jieun\n",
      "20211025_center_unbelt_nomask_jieun\n",
      "20211025_close_belt_mask_jieun1\n",
      "20211025_close_belt_nomask_jieun\n",
      "20211025_close_unbelt_mask_jieun\n",
      "20211025_close_unbelt_nomask_jieun\n",
      "20211025_far_belt_mask_jieun\n",
      "20211025_far_belt_nomask_jieun\n",
      "20211025_far_unbelt_mask_jieun\n",
      "20211025_far_unbelt_nomask_jieun\n",
      "20211025_phone_belt_mask_jieun\n",
      "20211025_phone_belt_nomask_jieun\n",
      "20211025_phone_unbelt_mask_jieun\n",
      "20211025_phone_unbelt_nomask_jieun\n",
      "\n"
     ]
    },
    {
     "output_type": "stream",
     "name": "stderr",
     "text": [
      "Test data Loading with OOP: 2000it [00:02, 870.00it/s]"
     ]
    },
    {
     "output_type": "stream",
     "name": "stdout",
     "text": [
      "My Test set is  359\n",
      "{'c5': 0, 'c0': 1, 'c6': 2, 'c1': 3, 'c7': 4}\n"
     ]
    },
    {
     "output_type": "stream",
     "name": "stderr",
     "text": [
      "\n"
     ]
    }
   ],
   "metadata": {}
  },
  {
   "cell_type": "code",
   "execution_count": 5,
   "source": [
    "print(X_test.shape, Y_test.shape)"
   ],
   "outputs": [
    {
     "output_type": "stream",
     "name": "stdout",
     "text": [
      "(359, 64, 64, 3) (359, 5)\n"
     ]
    }
   ],
   "metadata": {}
  },
  {
   "cell_type": "code",
   "execution_count": 6,
   "source": [
    "\n",
    "xai = explainable_model(model_load)"
   ],
   "outputs": [
    {
     "output_type": "stream",
     "name": "stdout",
     "text": [
      "WARNING:tensorflow:SavedModel saved prior to TF 2.5 detected when loading Keras model. Please ensure that you are saving the model with model.save() or tf.keras.models.save_model(), *NOT* tf.saved_model.save(). To confirm, there should be a file named \"keras_metadata.pb\" in the SavedModel directory.\n"
     ]
    }
   ],
   "metadata": {}
  },
  {
   "cell_type": "code",
   "execution_count": null,
   "source": [
    "X_pred=model_load.predict(X_test)\n",
    "# Test using X_test data\n",
    "def score(preds, labels):\n",
    "    ret=0\n",
    "    for pred, label in zip(preds, labels):\n",
    "\n",
    "        pred_idx = np.argmax(pred)\n",
    "        label_idx = np.argmax(label)\n",
    "\n",
    "        if (pred_idx == label_idx):\n",
    "            ret+=1\n",
    "\n",
    "    ret = ret / len(preds)\n",
    "    return ret\n",
    "\n",
    "print(\"Test Predict is: {}%\".format(score(X_pred, Y_test)*100))"
   ],
   "outputs": [],
   "metadata": {}
  },
  {
   "cell_type": "code",
   "execution_count": null,
   "source": [
    "#2. (모델2: OOP + phoning**) 기존 오픈데이터셋의 라벨링 활용 가능 safe driving(c0), reaching behind(c7)\n",
    "#                           ,phoning(c2,c4), texting(c1,c3)은 휴대폰 하고 있는 것으로 퉁쳐서 c1으로 클래스 구분하자\n",
    "#                           -추가로 데이터 추가하고 클래스가 없는 too close(c5) / too far(c6)는 데이터 만들어야 겠네\n",
    "\n",
    "delta = random.randint(0,10)\n",
    "d =0\n",
    "\n",
    "for pick, i in enumerate(Y_test):\n",
    "    if ( (np.argmax(i)==2) and (np.argmax(X_pred[pick])== np.argmax(i))):\n",
    "        d+=1\n",
    "        if ( d> delta):\n",
    "            print(X_pred[pick])\n",
    "            break\n",
    "\n",
    "heatmap = xai.explainable_model(X_test[pick], \"2nd_relu\", alpha=0.4)\n",
    "fig_title = \"Predicted {} as {:.2f}prob\".format(np.argmax(X_pred[pick]) , np.max(X_pred[pick])) + \",  Label(GT): {}\".format(np.argmax(Y_test[pick]))\n",
    "plt.title(fig_title)\n",
    "heatmap = xai.explainable_model(X_test[pick], \"3rd_conv\", alpha=0.6)\n",
    "fig_title = \"Predicted {} as {:.2f}prob\".format(np.argmax(X_pred[pick]) , np.max(X_pred[pick])) + \",  Label(GT): {}\".format(np.argmax(Y_test[pick]))\n",
    "plt.title(fig_title)\n",
    "heatmap = xai.explainable_model(X_test[pick], \"3rd_maxpool\", alpha=0.8)\n",
    "fig_title = \"Predicted {} as {:.2}fprob\".format(np.argmax(X_pred[pick]) , np.max(X_pred[pick])) + \",  Label(GT): {}\".format(np.argmax(Y_test[pick]))\n",
    "plt.title(fig_title)\n"
   ],
   "outputs": [],
   "metadata": {}
  },
  {
   "cell_type": "markdown",
   "source": [
    "## 2. Just Inferencing without Label"
   ],
   "metadata": {}
  },
  {
   "cell_type": "code",
   "execution_count": 7,
   "source": [
    "### No label data(test)\n",
    "from load.load_data import load_opendata\n",
    "\n",
    "openloader = load_opendata()\n",
    "X_open_test, Y_open_files = openloader.load_data(classifier_label=None, dsize=(64,64), comp_ratio=30)\n",
    "\n",
    "print(\"My Test set(No Label) is \", len(X_open_test))\n",
    "X_open_test = np.array(X_open_test)/255.0"
   ],
   "outputs": [
    {
     "output_type": "stream",
     "name": "stderr",
     "text": [
      "Test opendata without Label: 100%|██████████| 79726/79726 [00:14<00:00, 5690.35it/s]"
     ]
    },
    {
     "output_type": "stream",
     "name": "stdout",
     "text": [
      "My Test set(No Label) is  2658\n"
     ]
    },
    {
     "output_type": "stream",
     "name": "stderr",
     "text": [
      "\n"
     ]
    }
   ],
   "metadata": {}
  },
  {
   "cell_type": "code",
   "execution_count": 8,
   "source": [
    "model_load.summary()"
   ],
   "outputs": [
    {
     "output_type": "stream",
     "name": "stdout",
     "text": [
      "Model: \"oop_classifier\"\n",
      "_________________________________________________________________\n",
      "Layer (type)                 Output Shape              Param #   \n",
      "=================================================================\n",
      "input_1 (InputLayer)         [(None, 64, 64, 3)]       0         \n",
      "_________________________________________________________________\n",
      "1st_conv (Conv2D)            (None, 64, 64, 64)        4864      \n",
      "_________________________________________________________________\n",
      "1st_relu (ReLU)              (None, 64, 64, 64)        0         \n",
      "_________________________________________________________________\n",
      "1st_maxpool (MaxPooling2D)   (None, 32, 32, 64)        0         \n",
      "_________________________________________________________________\n",
      "2nd_conv (Conv2D)            (None, 32, 32, 128)       204928    \n",
      "_________________________________________________________________\n",
      "2nd_relu (ReLU)              (None, 32, 32, 128)       0         \n",
      "_________________________________________________________________\n",
      "2nd_maxpool (MaxPooling2D)   (None, 16, 16, 128)       0         \n",
      "_________________________________________________________________\n",
      "3rd_conv (Conv2D)            (None, 16, 16, 256)       819456    \n",
      "_________________________________________________________________\n",
      "3rd_relu (ReLU)              (None, 16, 16, 256)       0         \n",
      "_________________________________________________________________\n",
      "3rd_maxpool (MaxPooling2D)   (None, 8, 8, 256)         0         \n",
      "_________________________________________________________________\n",
      "dropout (Dropout)            (None, 8, 8, 256)         0         \n",
      "_________________________________________________________________\n",
      "flatten (Flatten)            (None, 16384)             0         \n",
      "_________________________________________________________________\n",
      "fc1 (Dense)                  (None, 128)               2097280   \n",
      "_________________________________________________________________\n",
      "dropout_1 (Dropout)          (None, 128)               0         \n",
      "_________________________________________________________________\n",
      "out_oop (Dense)              (None, 5)                 645       \n",
      "=================================================================\n",
      "Total params: 3,127,173\n",
      "Trainable params: 3,127,173\n",
      "Non-trainable params: 0\n",
      "_________________________________________________________________\n"
     ]
    }
   ],
   "metadata": {}
  },
  {
   "cell_type": "code",
   "execution_count": 32,
   "source": [
    "X_open_pred = model_load.predict(X_open_test[0:100])\n",
    "print(X_open_pred.shape)"
   ],
   "outputs": [
    {
     "output_type": "stream",
     "name": "stdout",
     "text": [
      "(100, 5)\n"
     ]
    }
   ],
   "metadata": {}
  },
  {
   "cell_type": "code",
   "execution_count": 35,
   "source": [
    "np.sum(X_open_pred, axis=1)"
   ],
   "outputs": [
    {
     "output_type": "execute_result",
     "data": {
      "text/plain": [
       "array([1.        , 1.        , 1.        , 1.0000001 , 0.99999994,\n",
       "       1.        , 1.        , 0.99999994, 1.        , 1.        ,\n",
       "       1.        , 1.        , 1.        , 1.        , 0.99999994,\n",
       "       1.0000001 , 1.        , 1.        , 0.99999994, 0.99999994,\n",
       "       0.99999994, 1.        , 0.99999994, 1.        , 1.0000001 ,\n",
       "       1.        , 1.        , 0.99999994, 0.99999994, 0.99999994,\n",
       "       1.        , 0.99999994, 1.        , 1.        , 0.99999994,\n",
       "       1.        , 0.99999994, 1.        , 0.99999994, 0.99999994,\n",
       "       1.0000001 , 1.0000001 , 1.        , 1.        , 0.99999994,\n",
       "       1.        , 1.        , 1.        , 1.        , 1.0000001 ,\n",
       "       1.        , 1.        , 0.99999994, 1.        , 0.9999999 ,\n",
       "       1.        , 0.9999999 , 1.0000001 , 1.        , 1.        ,\n",
       "       0.99999994, 1.        , 1.        , 1.        , 0.99999994,\n",
       "       1.        , 0.99999994, 1.0000001 , 1.        , 0.99999994,\n",
       "       1.        , 1.        , 0.99999994, 0.99999994, 1.0000001 ,\n",
       "       1.        , 1.        , 1.0000001 , 0.99999994, 1.        ,\n",
       "       1.        , 1.0000001 , 1.        , 1.        , 1.0000001 ,\n",
       "       1.        , 0.9999999 , 1.0000001 , 0.99999994, 1.        ,\n",
       "       1.0000001 , 1.        , 1.0000001 , 1.        , 0.99999994,\n",
       "       1.        , 1.        , 1.        , 1.        , 0.99999994],\n",
       "      dtype=float32)"
      ]
     },
     "metadata": {},
     "execution_count": 35
    }
   ],
   "metadata": {}
  },
  {
   "cell_type": "code",
   "execution_count": 22,
   "source": [
    "np.sum(np.exp(X_open_pred[0]) /  np.sum(np.exp(X_open_pred[0])))"
   ],
   "outputs": [
    {
     "output_type": "execute_result",
     "data": {
      "text/plain": [
       "1.0"
      ]
     },
     "metadata": {},
     "execution_count": 22
    }
   ],
   "metadata": {}
  },
  {
   "cell_type": "code",
   "execution_count": null,
   "source": [
    "# labels_map={'c5': 0, 'c0': 1, 'c6': 2, 'c1': 3, 'c7': 4}\n",
    "#2. (모델2: OOP + phoning**) 기존 오픈데이터셋의 라벨링 활용 가능 safe driving(c0), reaching behind(c7)\n",
    "#                           ,phoning(c2,c4), texting(c1,c3)은 휴대폰 하고 있는 것으로 퉁쳐서 c1으로 클래스 구분하자\n",
    "#                           -추가로 데이터 추가하고 클래스가 없는 too close(c5) / too far(c6)는 데이터 만들어야 겠네\n",
    "# pick = random.randint(0, len(X_open_test)-1)\n",
    "\n",
    "delta = random.randint(0,100)\n",
    "d =0\n",
    "for pick, i in enumerate(X_open_pred):\n",
    "    if  (np.argmax(i)==4):\n",
    "        d+=1\n",
    "        if ( d> delta):\n",
    "            break\n",
    "\n",
    "heatmap = xai.explainable_model(X_open_test[pick], \"2nd_relu\", alpha=0.4)\n",
    "fig_title = \"Predicted {} as {:.2f}prob\".format(np.argmax(X_open_pred[pick]) , np.max(X_open_pred[pick]))\n",
    "plt.title(fig_title)\n",
    "heatmap = xai.explainable_model(X_open_test[pick], \"3rd_conv\", alpha=0.6)\n",
    "fig_title = \"Predicted {} as {:.2f}prob\".format(np.argmax(X_open_pred[pick]) , np.max(X_open_pred[pick]))\n",
    "plt.title(fig_title)\n",
    "heatmap = xai.explainable_model(X_open_test[pick], \"3rd_maxpool\", alpha=0.8)\n",
    "fig_title = \"Predicted {} as {:.2}fprob\".format(np.argmax(X_open_pred[pick]) , np.max(X_open_pred[pick]))\n",
    "plt.title(fig_title)"
   ],
   "outputs": [],
   "metadata": {}
  },
  {
   "cell_type": "code",
   "execution_count": null,
   "source": [
    "tf.keras.utils.plot_model(\"\", show_shapes=True)"
   ],
   "outputs": [],
   "metadata": {}
  },
  {
   "cell_type": "code",
   "execution_count": null,
   "source": [],
   "outputs": [],
   "metadata": {}
  }
 ],
 "metadata": {
  "orig_nbformat": 4,
  "language_info": {
   "name": "python",
   "version": "3.6.13",
   "mimetype": "text/x-python",
   "codemirror_mode": {
    "name": "ipython",
    "version": 3
   },
   "pygments_lexer": "ipython3",
   "nbconvert_exporter": "python",
   "file_extension": ".py"
  },
  "kernelspec": {
   "name": "python3",
   "display_name": "Python 3.6.13 64-bit ('ds_master': conda)"
  },
  "interpreter": {
   "hash": "051845d752917fb819259a0b6fac3e853c795161b2e85e12541c96eac1115414"
  }
 },
 "nbformat": 4,
 "nbformat_minor": 2
}